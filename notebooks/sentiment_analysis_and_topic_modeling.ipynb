{
 "cells": [
  {
   "cell_type": "code",
   "execution_count": 65,
   "id": "d2150538",
   "metadata": {},
   "outputs": [
    {
     "name": "stdout",
     "output_type": "stream",
     "text": [
      "Requirement already satisfied: gensim in c:\\users\\micky\\anaconda3\\lib\\site-packages (4.1.2)\n",
      "Requirement already satisfied: smart-open>=1.8.1 in c:\\users\\micky\\anaconda3\\lib\\site-packages (from gensim) (6.0.0)\n",
      "Requirement already satisfied: numpy>=1.17.0 in c:\\users\\micky\\anaconda3\\lib\\site-packages (from gensim) (1.20.3)\n",
      "Requirement already satisfied: Cython==0.29.23 in c:\\users\\micky\\anaconda3\\lib\\site-packages (from gensim) (0.29.23)\n",
      "Requirement already satisfied: scipy>=0.18.1 in c:\\users\\micky\\anaconda3\\lib\\site-packages (from gensim) (1.7.1)\n"
     ]
    }
   ],
   "source": [
    "!pip install gensim"
   ]
  },
  {
   "cell_type": "code",
   "execution_count": 66,
   "id": "c6740c67",
   "metadata": {},
   "outputs": [],
   "source": [
    "import warnings\n",
    "warnings.filterwarnings('ignore')\n",
    "import matplotlib.pyplot as plt\n",
    "import seaborn as sns\n",
    "from wordcloud import STOPWORDS,WordCloud\n",
    "import gensim\n",
    "from gensim.models import CoherenceModel\n",
    "from gensim import corpora\n",
    "import pandas as pd\n",
    "from pprint import pprint\n",
    "import string\n",
    "import os\n",
    "import re"
   ]
  },
  {
   "cell_type": "code",
   "execution_count": 67,
   "id": "a7fc2f87",
   "metadata": {},
   "outputs": [],
   "source": [
    "twitter_data = pd.read_csv('../data/clean_processed_tweet_data.csv')"
   ]
  },
  {
   "cell_type": "code",
   "execution_count": 68,
   "id": "d67ae98f",
   "metadata": {},
   "outputs": [
    {
     "data": {
      "text/plain": [
       "(16321, 16)"
      ]
     },
     "execution_count": 68,
     "metadata": {},
     "output_type": "execute_result"
    }
   ],
   "source": [
    "twitter_data.shape"
   ]
  },
  {
   "cell_type": "markdown",
   "id": "95fdaff1",
   "metadata": {},
   "source": [
    "### Removing null raws"
   ]
  },
  {
   "cell_type": "code",
   "execution_count": 69,
   "id": "f3d7d764",
   "metadata": {},
   "outputs": [
    {
     "data": {
      "text/html": [
       "<div>\n",
       "<style scoped>\n",
       "    .dataframe tbody tr th:only-of-type {\n",
       "        vertical-align: middle;\n",
       "    }\n",
       "\n",
       "    .dataframe tbody tr th {\n",
       "        vertical-align: top;\n",
       "    }\n",
       "\n",
       "    .dataframe thead th {\n",
       "        text-align: right;\n",
       "    }\n",
       "</style>\n",
       "<table border=\"1\" class=\"dataframe\">\n",
       "  <thead>\n",
       "    <tr style=\"text-align: right;\">\n",
       "      <th></th>\n",
       "      <th>Unnamed: 0</th>\n",
       "      <th>created_at</th>\n",
       "      <th>source</th>\n",
       "      <th>original_text</th>\n",
       "      <th>polarity</th>\n",
       "      <th>subjectivity</th>\n",
       "      <th>lang</th>\n",
       "      <th>favorite_count</th>\n",
       "      <th>retweet_count</th>\n",
       "      <th>original_author</th>\n",
       "      <th>followers_count</th>\n",
       "      <th>friends_count</th>\n",
       "      <th>possibly_sensitive</th>\n",
       "      <th>hashtags</th>\n",
       "      <th>user_mentions</th>\n",
       "      <th>place</th>\n",
       "    </tr>\n",
       "  </thead>\n",
       "  <tbody>\n",
       "  </tbody>\n",
       "</table>\n",
       "</div>"
      ],
      "text/plain": [
       "Empty DataFrame\n",
       "Columns: [Unnamed: 0, created_at, source, original_text, polarity, subjectivity, lang, favorite_count, retweet_count, original_author, followers_count, friends_count, possibly_sensitive, hashtags, user_mentions, place]\n",
       "Index: []"
      ]
     },
     "execution_count": 69,
     "metadata": {},
     "output_type": "execute_result"
    }
   ],
   "source": [
    "twitter_data.dropna()"
   ]
  },
  {
   "cell_type": "code",
   "execution_count": 70,
   "id": "aa505cc8",
   "metadata": {},
   "outputs": [
    {
     "data": {
      "text/plain": [
       "16321"
      ]
     },
     "execution_count": 70,
     "metadata": {},
     "output_type": "execute_result"
    }
   ],
   "source": [
    "len(twitter_data)"
   ]
  },
  {
   "cell_type": "code",
   "execution_count": 71,
   "id": "edbb928e",
   "metadata": {},
   "outputs": [],
   "source": [
    "class PrepareData:\n",
    "  def __init__(self,df):\n",
    "    self.df=df\n",
    "    \n",
    "  def preprocess_data(self):\n",
    "    tweets_df = self.df.loc[self.df['lang'] ==\"en\"]\n",
    "\n",
    "    \n",
    "    #text Preprocessing\n",
    "    tweets_df['original_text']=tweets_df['original_text'].astype(str)\n",
    "    tweets_df['original_text'] = tweets_df['original_text'].apply(lambda x: x.lower())\n",
    "    tweets_df['original_text']= tweets_df['original_text'].apply(lambda x: x.translate(str.maketrans(' ', ' ', string.punctuation)))\n",
    "    \n",
    "    #Converting tweets to list of words For feature engineering\n",
    "    sentence_list = [tweet for tweet in tweets_df['original_text']]\n",
    "    word_list = [sent.split() for sent in sentence_list]\n",
    "\n",
    "    #Create dictionary which contains Id and word \n",
    "    word_to_id = corpora.Dictionary(word_list)\n",
    "    corpus_1= [word_to_id.doc2bow(tweet) for tweet in word_list]\n",
    "\n",
    "\n",
    "\n",
    "    \n",
    "    return word_list, word_to_id, corpus_1"
   ]
  },
  {
   "cell_type": "code",
   "execution_count": 72,
   "id": "800c7341",
   "metadata": {},
   "outputs": [],
   "source": [
    "PrepareData_obj=PrepareData(twitter_data)\n",
    "word_list ,id2word,corpus=PrepareData_obj.preprocess_data()"
   ]
  },
  {
   "cell_type": "code",
   "execution_count": 73,
   "id": "4b21784c",
   "metadata": {},
   "outputs": [],
   "source": [
    "# Build LDA model\n",
    "lda_model = gensim.models.ldamodel.LdaModel(corpus,\n",
    "                                           id2word=id2word,\n",
    "                                           num_topics=5, \n",
    "                                           random_state=100,\n",
    "                                           update_every=1,\n",
    "                                           chunksize=100,\n",
    "                                           passes=10,\n",
    "                                           alpha='auto',\n",
    "                                           per_word_topics=True)"
   ]
  },
  {
   "cell_type": "code",
   "execution_count": 74,
   "id": "90bd9e9e",
   "metadata": {},
   "outputs": [
    {
     "name": "stdout",
     "output_type": "stream",
     "text": [
      "[(0,\n",
      "  [('we', 0.020143272),\n",
      "   ('be', 0.018363971),\n",
      "   ('have', 0.017749583),\n",
      "   ('out', 0.016125446),\n",
      "   ('all', 0.015970517),\n",
      "   ('will', 0.014745396),\n",
      "   ('has', 0.013477435),\n",
      "   ('what', 0.012209217),\n",
      "   ('more', 0.010394601),\n",
      "   ('how', 0.009317043)]),\n",
      " (1,\n",
      "  [('nan', 0.34540665),\n",
      "   ('our', 0.018508697),\n",
      "   ('an', 0.011724095),\n",
      "   ('his', 0.011709251),\n",
      "   ('do', 0.008253877),\n",
      "   ('why', 0.0077321655),\n",
      "   ('congress', 0.0067706145),\n",
      "   ('government', 0.005313495),\n",
      "   ('or', 0.005155609),\n",
      "   ('says', 0.005084264)]),\n",
      " (2,\n",
      "  [('the', 0.08996939),\n",
      "   ('to', 0.054572947),\n",
      "   ('of', 0.047788296),\n",
      "   ('a', 0.03994882),\n",
      "   ('in', 0.037376195),\n",
      "   ('is', 0.032193836),\n",
      "   ('and', 0.031662207),\n",
      "   ('for', 0.029475868),\n",
      "   ('you', 0.017149167),\n",
      "   ('this', 0.01428022)]),\n",
      " (3,\n",
      "  [('amp', 0.028707698),\n",
      "   ('president', 0.012553566),\n",
      "   ('us', 0.012460349),\n",
      "   ('pnpkakampimo', 0.011511913),\n",
      "   ('weserveandprotect', 0.011191247),\n",
      "   ('sri', 0.010848861),\n",
      "   ('facebook', 0.010479901),\n",
      "   ('teampnp', 0.010116023),\n",
      "   ('who', 0.008813959),\n",
      "   ('pcadgwesternmindanao', 0.008016816)]),\n",
      " (4,\n",
      "  [('on', 0.043049283),\n",
      "   ('from', 0.022777265),\n",
      "   ('by', 0.022062099),\n",
      "   ('i', 0.021584718),\n",
      "   ('at', 0.01909494),\n",
      "   ('it', 0.017677126),\n",
      "   ('follow', 0.012573278),\n",
      "   ('was', 0.01235402),\n",
      "   ('today', 0.008065731),\n",
      "   ('up', 0.0078505445)])]\n"
     ]
    }
   ],
   "source": [
    "pprint(lda_model.show_topics(formatted=False))"
   ]
  },
  {
   "cell_type": "code",
   "execution_count": 75,
   "id": "dcee00d9",
   "metadata": {},
   "outputs": [
    {
     "name": "stdout",
     "output_type": "stream",
     "text": [
      "\n",
      "Perplexity:  -9.105613125373583\n",
      "\n",
      " Ldamodel Coherence Score/Accuracy on Tweets:  0.4737094524355194\n"
     ]
    }
   ],
   "source": [
    "# Compute Perplexity\n",
    "\n",
    "#It's a measure of how good the model is. The lower the better. Perplexity is a negative value\n",
    "print('\\nPerplexity: ', lda_model.log_perplexity(corpus))  \n",
    "doc_lda = lda_model[corpus]\n",
    "\n",
    "\n",
    "# Compute Coherence Score\n",
    "coherence_model_lda = CoherenceModel(model=lda_model, texts=word_list, dictionary=id2word, coherence='c_v')\n",
    "coherence_lda = coherence_model_lda.get_coherence()\n",
    "print('\\n Ldamodel Coherence Score/Accuracy on Tweets: ', coherence_lda)"
   ]
  },
  {
   "cell_type": "code",
   "execution_count": 76,
   "id": "b938fecb",
   "metadata": {},
   "outputs": [
    {
     "name": "stdout",
     "output_type": "stream",
     "text": [
      "Requirement already satisfied: pyLDAvis in c:\\users\\micky\\anaconda3\\lib\\site-packages (3.3.1)\n",
      "Requirement already satisfied: jinja2 in c:\\users\\micky\\anaconda3\\lib\\site-packages (from pyLDAvis) (2.11.3)\n",
      "Requirement already satisfied: setuptools in c:\\users\\micky\\anaconda3\\lib\\site-packages (from pyLDAvis) (58.0.4)\n",
      "Requirement already satisfied: scipy in c:\\users\\micky\\anaconda3\\lib\\site-packages (from pyLDAvis) (1.7.1)\n",
      "Requirement already satisfied: joblib in c:\\users\\micky\\anaconda3\\lib\\site-packages (from pyLDAvis) (1.1.0)\n",
      "Requirement already satisfied: funcy in c:\\users\\micky\\anaconda3\\lib\\site-packages (from pyLDAvis) (1.17)\n",
      "Requirement already satisfied: sklearn in c:\\users\\micky\\anaconda3\\lib\\site-packages (from pyLDAvis) (0.0)\n",
      "Requirement already satisfied: future in c:\\users\\micky\\anaconda3\\lib\\site-packages (from pyLDAvis) (0.18.2)\n",
      "Requirement already satisfied: numexpr in c:\\users\\micky\\anaconda3\\lib\\site-packages (from pyLDAvis) (2.7.3)\n",
      "Requirement already satisfied: scikit-learn in c:\\users\\micky\\anaconda3\\lib\\site-packages (from pyLDAvis) (0.24.2)\n",
      "Requirement already satisfied: numpy>=1.20.0 in c:\\users\\micky\\anaconda3\\lib\\site-packages (from pyLDAvis) (1.20.3)\n",
      "Requirement already satisfied: gensim in c:\\users\\micky\\anaconda3\\lib\\site-packages (from pyLDAvis) (4.1.2)\n",
      "Requirement already satisfied: pandas>=1.2.0 in c:\\users\\micky\\anaconda3\\lib\\site-packages (from pyLDAvis) (1.3.4)\n",
      "Requirement already satisfied: pytz>=2017.3 in c:\\users\\micky\\anaconda3\\lib\\site-packages (from pandas>=1.2.0->pyLDAvis) (2021.3)\n",
      "Requirement already satisfied: python-dateutil>=2.7.3 in c:\\users\\micky\\anaconda3\\lib\\site-packages (from pandas>=1.2.0->pyLDAvis) (2.8.2)\n",
      "Requirement already satisfied: six>=1.5 in c:\\users\\micky\\anaconda3\\lib\\site-packages (from python-dateutil>=2.7.3->pandas>=1.2.0->pyLDAvis) (1.16.0)\n",
      "Requirement already satisfied: smart-open>=1.8.1 in c:\\users\\micky\\anaconda3\\lib\\site-packages (from gensim->pyLDAvis) (6.0.0)\n",
      "Requirement already satisfied: Cython==0.29.23 in c:\\users\\micky\\anaconda3\\lib\\site-packages (from gensim->pyLDAvis) (0.29.23)\n",
      "Requirement already satisfied: MarkupSafe>=0.23 in c:\\users\\micky\\anaconda3\\lib\\site-packages (from jinja2->pyLDAvis) (1.1.1)\n",
      "Requirement already satisfied: threadpoolctl>=2.0.0 in c:\\users\\micky\\anaconda3\\lib\\site-packages (from scikit-learn->pyLDAvis) (2.2.0)\n"
     ]
    }
   ],
   "source": [
    "!pip install pyLDAvis "
   ]
  },
  {
   "cell_type": "code",
   "execution_count": 77,
   "id": "ed2dd179",
   "metadata": {},
   "outputs": [
    {
     "data": {
      "text/html": [
       "\n",
       "<link rel=\"stylesheet\" type=\"text/css\" href=\"https://cdn.jsdelivr.net/gh/bmabey/pyLDAvis@3.3.1/pyLDAvis/js/ldavis.v1.0.0.css\">\n",
       "\n",
       "\n",
       "<div id=\"ldavis_el808420354613615525401036225\"></div>\n",
       "<script type=\"text/javascript\">\n",
       "\n",
       "var ldavis_el808420354613615525401036225_data = {\"mdsDat\": {\"x\": [0.31856521024914897, -0.07926589302417822, -0.0760643088855382, -0.07804630294720281, -0.08518870539222968], \"y\": [0.0020507526416927227, -0.22711907304162943, 0.04860578891882687, 0.010316662451776606, 0.16614586902933307], \"topics\": [1, 2, 3, 4, 5], \"cluster\": [1, 1, 1, 1, 1], \"Freq\": [40.44011175219962, 17.527204976009276, 16.14665442022709, 13.101379980559546, 12.784648871004464]}, \"tinfo\": {\"Term\": [\"nan\", \"the\", \"to\", \"of\", \"a\", \"in\", \"on\", \"is\", \"and\", \"for\", \"amp\", \"from\", \"by\", \"i\", \"we\", \"you\", \"at\", \"be\", \"have\", \"it\", \"this\", \"that\", \"out\", \"our\", \"all\", \"with\", \"will\", \"are\", \"has\", \"what\", \"the\", \"to\", \"of\", \"a\", \"in\", \"is\", \"and\", \"for\", \"this\", \"that\", \"with\", \"are\", \"not\", \"if\", \"as\", \"no\", \"new\", \"world\", \"your\", \"when\", \"best\", \"but\", \"its\", \"now\", \"about\", \"over\", \"even\", \"news\", \"working\", \"time\", \"you\", \"india\", \"we\", \"be\", \"have\", \"all\", \"out\", \"will\", \"what\", \"more\", \"how\", \"people\", \"my\", \"one\", \"they\", \"day\", \"been\", \"after\", \"life\", \"can\", \"peace\", \"know\", \"years\", \"take\", \"t\\u2026\", \"into\", \"some\", \"may\", \"where\", \"any\", \"down\", \"court\", \"has\", \"on\", \"from\", \"by\", \"i\", \"at\", \"it\", \"was\", \"follow\", \"today\", \"were\", \"am\", \"th\\u2026\", \"while\", \"1\", \"wishes\", \"2\", \"delhi\", \"say\", \"like\", \"last\", \"2022\", \"story\", \"never\", \"across\", \"against\", \"me\", \"4\", \"the\\u2026\", \"must\", \"team\", \"\\ud83d\\ude80\", \"gujarat\", \"up\", \"srilanka\", \"amp\", \"president\", \"sri\", \"who\", \"under\", \"country\", \"read\", \"just\", \"congratulations\", \"their\", \"national\", \"minister\", \"leader\", \"towards\", \"thank\", \"mr\", \"sure\", \"power\", \"join\", \"love\", \"and\\u2026\", \"pm\", \"part\", \"narendramodi\", \"make\", \"also\", \"bjp\", \"indian\", \"punjab\", \"community\", \"facebook\", \"weserveandprotect\", \"pnpkakampimo\", \"teampnp\", \"httpstcouiayywikne\", \"us\", \"pcadgwesternmindanao\", \"twi\\u2026\", \"has\", \"lanka\", \"nan\", \"our\", \"his\", \"an\", \"do\", \"why\", \"congress\", \"government\", \"or\", \"so\", \"says\", \"two\", \"big\", \"police\", \"twitter\", \"protest\", \"\\ud83d\\udc47\", \"price\", \"high\", \"days\", \"again\", \"prices\", \"children\", \"s\", \"value\", \"air\", \"gas\", \"a\\u2026\", \"such\", \"same\"], \"Freq\": [6509.0, 5363.0, 3253.0, 2848.0, 2381.0, 2228.0, 1025.0, 1919.0, 1887.0, 1757.0, 555.0, 542.0, 525.0, 514.0, 521.0, 1027.0, 455.0, 475.0, 459.0, 421.0, 851.0, 821.0, 417.0, 349.0, 413.0, 787.0, 381.0, 722.0, 458.0, 316.0, 5362.305639358796, 3252.626543133944, 2848.251511098737, 2381.007479809267, 2227.6752590197057, 1918.7991498501308, 1887.1133092218556, 1756.8043237958882, 851.1217273111366, 821.0330788133623, 786.6184009595521, 721.7870213136304, 547.562912426578, 395.49733260545685, 372.51667200950385, 371.52460221203484, 307.7930892328889, 270.1671248798158, 258.3510171225389, 261.4297501079479, 266.88789637847685, 252.45277431323623, 251.621095377694, 243.49864013115058, 216.83315282375347, 190.33024895106254, 188.38286964278686, 184.70181748701359, 179.13090636581688, 154.68702261159382, 1022.1151495929411, 498.3465365420783, 520.3399079605211, 474.3770996275806, 458.5062646775458, 412.54951892878427, 416.5516424546585, 380.902252125217, 315.3878263357303, 268.5127674889601, 240.67735048796527, 237.5537723948301, 222.7714118836706, 197.0864800993273, 189.68139439273372, 179.15394551562815, 162.54456992900487, 155.19571950224662, 145.6036046688112, 140.32537934686985, 148.59060621280184, 126.30609850349977, 124.75608578612123, 120.54114630926365, 113.68670924545576, 111.74693491583653, 111.23833943632451, 108.13563154864696, 108.4002922175106, 107.76586202947286, 103.63874582065333, 103.45778249448368, 348.1483712459848, 1024.4550827391438, 542.0365458782791, 525.0175452000201, 513.657183170828, 454.4073003791734, 420.66721309409814, 293.9918538373608, 299.20958320676084, 191.94232172390159, 178.77303263369777, 176.0856557783322, 154.3537639747111, 158.44089592360024, 122.00908784936956, 128.7713183917898, 114.42657411581689, 111.88169380280671, 108.81449977742554, 94.49637317737904, 94.86628351880256, 92.11910000358071, 92.74057619431449, 91.91176581682674, 95.55029795020688, 90.93781596787936, 87.04734121542148, 83.28101210134975, 80.60051683497265, 80.36659267595165, 83.74013376668896, 89.69940144581724, 108.91627194050135, 186.8214665106, 91.87752963457254, 554.3191172623405, 242.39776040984773, 209.48148331058303, 170.18939523493594, 121.49210165617124, 119.56970330225413, 118.4174349817855, 107.87435653225853, 109.09761265922184, 98.10847542661766, 99.08587726694587, 96.20048143824891, 94.0456620824216, 93.86603011305482, 92.63887167981936, 91.16411461106217, 99.64562443828385, 89.39420292089974, 80.61847358713989, 79.74523814810881, 78.25542033509848, 71.85947291886241, 72.26517340308574, 72.96170809819871, 68.42767328866131, 67.11994661728835, 66.29020750680927, 63.54708401024219, 68.78126359776876, 61.98557705458688, 202.35720279800938, 216.0926375228352, 222.28439271721047, 195.33105539754249, 154.60513052006124, 240.5978261375592, 154.7973146082205, 154.7973146082205, 109.44940467050802, 79.95617848254392, 6508.245796112853, 348.7458867835548, 220.62889100907665, 220.90857473882556, 155.52178971406929, 145.69155940764432, 127.57375514065725, 100.11831700204142, 97.1433826928054, 95.73521600090136, 95.79908279312254, 89.84745935139946, 82.84803094648731, 81.87444623270046, 79.91750243961856, 74.03207093092428, 68.21755182980407, 63.63494936031271, 56.458139034128465, 56.13513310536978, 46.99896610413347, 44.27818723340203, 41.685554330576934, 61.142367705145006, 40.643785959371385, 41.48180618995815, 40.275176561376604, 36.8389474770846, 50.10654750291473, 36.84772159333975], \"Total\": [6509.0, 5363.0, 3253.0, 2848.0, 2381.0, 2228.0, 1025.0, 1919.0, 1887.0, 1757.0, 555.0, 542.0, 525.0, 514.0, 521.0, 1027.0, 455.0, 475.0, 459.0, 421.0, 851.0, 821.0, 417.0, 349.0, 413.0, 787.0, 381.0, 722.0, 458.0, 316.0, 5363.013345999197, 3253.3352045064466, 2848.9611989538685, 2381.7149313950954, 2228.3840116367537, 1919.5051837542871, 1887.8202372124822, 1757.5160405740621, 851.8288595834061, 821.7422321043645, 787.324944949906, 722.4922165195193, 548.2711444915665, 396.20744793878794, 373.2241352592883, 372.2396592509213, 308.50270328696774, 270.8797759318452, 259.0539887159197, 262.1416812241391, 267.62021839545946, 253.158358625736, 252.32684699048005, 244.2084373675264, 217.5372142653874, 191.03856625990352, 189.10362591502337, 185.4259711873335, 179.9277241345069, 155.39167551498753, 1027.296436968607, 501.10269400671456, 521.0854644106091, 475.120547108315, 459.2469023317545, 413.292074680689, 417.30148761185444, 381.6412048594179, 316.12829388797746, 269.2652780627666, 241.4178909452526, 238.29471852488703, 223.51651512749893, 197.82973988118357, 190.42118719457153, 179.8991141557767, 163.28250283280377, 155.94474030789542, 146.36365129661587, 141.06859428088072, 149.38526701350835, 127.05075839330105, 125.50068127316224, 121.28417001184917, 114.43398073866669, 112.48999629430085, 111.98479897906536, 108.87650451837327, 109.14529829355595, 108.51626015307637, 104.38569234064609, 104.21852463333238, 458.18638730243873, 1025.2098848048818, 542.7929183439525, 525.7720129797267, 514.4109915509252, 455.15778673342675, 421.42268456432896, 294.74388036592325, 300.0451815119723, 192.6938540873298, 179.52962895451387, 176.85701965097678, 155.13461485178067, 159.24336501536632, 122.76917959575567, 129.6017635084559, 115.17186758853481, 112.64437048167477, 109.58720605347048, 95.2423486871064, 95.61909833496117, 92.86623396644994, 93.50031399040624, 92.66737803096436, 96.33638115663263, 91.69555147704763, 87.80062080516913, 84.03776605308339, 81.35288443714654, 81.13782367183994, 84.54504657417522, 90.64025824818822, 111.05940504740127, 242.47132917436386, 236.41818197584485, 555.1140472439242, 243.2057766021673, 210.29887218404616, 170.97689737853585, 122.30430064917753, 120.37691019697318, 119.23004167708272, 108.66522695901645, 109.93528341752224, 98.89159257469338, 99.87836958198262, 96.98591816018372, 94.84602244821711, 94.66647554695982, 93.43434869332768, 91.94706710841723, 100.50693372319506, 90.18685434309047, 81.41728476805493, 80.55094691675383, 79.08713225910986, 72.64459739380884, 73.07289139014055, 73.78278537662817, 69.21675704864742, 67.91328644077329, 67.07525741280413, 64.34228185923305, 69.64795908932987, 62.79295269705435, 209.2116861191222, 228.89676918108526, 238.77794370840715, 210.34507570977993, 194.4321056118558, 357.2864741777641, 201.0291096829787, 201.0291096829787, 458.18638730243873, 152.36715808014557, 6509.020098826681, 349.5351775713122, 221.41463569732423, 221.69564816966786, 156.3014582682609, 146.47997369387252, 128.42298542890364, 100.91153128034168, 97.92549327040624, 96.51664355141477, 96.58507618084047, 90.63694912781708, 83.63262602707695, 82.66163084701518, 80.72951380314555, 74.82282368371021, 69.04168669039308, 64.41738022159797, 57.235106462034636, 56.918842579396674, 47.783183614533705, 45.05383559075579, 42.47055888308565, 62.319103411276835, 41.43128762166097, 42.30420753859211, 41.083629888428504, 37.62158948270113, 51.18034439098719, 37.64056272036848], \"Category\": [\"Default\", \"Default\", \"Default\", \"Default\", \"Default\", \"Default\", \"Default\", \"Default\", \"Default\", \"Default\", \"Default\", \"Default\", \"Default\", \"Default\", \"Default\", \"Default\", \"Default\", \"Default\", \"Default\", \"Default\", \"Default\", \"Default\", \"Default\", \"Default\", \"Default\", \"Default\", \"Default\", \"Default\", \"Default\", \"Default\", \"Topic1\", \"Topic1\", \"Topic1\", \"Topic1\", \"Topic1\", \"Topic1\", \"Topic1\", \"Topic1\", \"Topic1\", \"Topic1\", \"Topic1\", \"Topic1\", \"Topic1\", \"Topic1\", \"Topic1\", \"Topic1\", \"Topic1\", \"Topic1\", \"Topic1\", \"Topic1\", \"Topic1\", \"Topic1\", \"Topic1\", \"Topic1\", \"Topic1\", \"Topic1\", \"Topic1\", \"Topic1\", \"Topic1\", \"Topic1\", \"Topic1\", \"Topic1\", \"Topic2\", \"Topic2\", \"Topic2\", \"Topic2\", \"Topic2\", \"Topic2\", \"Topic2\", \"Topic2\", \"Topic2\", \"Topic2\", \"Topic2\", \"Topic2\", \"Topic2\", \"Topic2\", \"Topic2\", \"Topic2\", \"Topic2\", \"Topic2\", \"Topic2\", \"Topic2\", \"Topic2\", \"Topic2\", \"Topic2\", \"Topic2\", \"Topic2\", \"Topic2\", \"Topic2\", \"Topic2\", \"Topic2\", \"Topic2\", \"Topic2\", \"Topic3\", \"Topic3\", \"Topic3\", \"Topic3\", \"Topic3\", \"Topic3\", \"Topic3\", \"Topic3\", \"Topic3\", \"Topic3\", \"Topic3\", \"Topic3\", \"Topic3\", \"Topic3\", \"Topic3\", \"Topic3\", \"Topic3\", \"Topic3\", \"Topic3\", \"Topic3\", \"Topic3\", \"Topic3\", \"Topic3\", \"Topic3\", \"Topic3\", \"Topic3\", \"Topic3\", \"Topic3\", \"Topic3\", \"Topic3\", \"Topic3\", \"Topic3\", \"Topic3\", \"Topic3\", \"Topic4\", \"Topic4\", \"Topic4\", \"Topic4\", \"Topic4\", \"Topic4\", \"Topic4\", \"Topic4\", \"Topic4\", \"Topic4\", \"Topic4\", \"Topic4\", \"Topic4\", \"Topic4\", \"Topic4\", \"Topic4\", \"Topic4\", \"Topic4\", \"Topic4\", \"Topic4\", \"Topic4\", \"Topic4\", \"Topic4\", \"Topic4\", \"Topic4\", \"Topic4\", \"Topic4\", \"Topic4\", \"Topic4\", \"Topic4\", \"Topic4\", \"Topic4\", \"Topic4\", \"Topic4\", \"Topic4\", \"Topic4\", \"Topic4\", \"Topic4\", \"Topic4\", \"Topic4\", \"Topic5\", \"Topic5\", \"Topic5\", \"Topic5\", \"Topic5\", \"Topic5\", \"Topic5\", \"Topic5\", \"Topic5\", \"Topic5\", \"Topic5\", \"Topic5\", \"Topic5\", \"Topic5\", \"Topic5\", \"Topic5\", \"Topic5\", \"Topic5\", \"Topic5\", \"Topic5\", \"Topic5\", \"Topic5\", \"Topic5\", \"Topic5\", \"Topic5\", \"Topic5\", \"Topic5\", \"Topic5\", \"Topic5\", \"Topic5\"], \"logprob\": [30.0, 29.0, 28.0, 27.0, 26.0, 25.0, 24.0, 23.0, 22.0, 21.0, 20.0, 19.0, 18.0, 17.0, 16.0, 15.0, 14.0, 13.0, 12.0, 11.0, 10.0, 9.0, 8.0, 7.0, 6.0, 5.0, 4.0, 3.0, 2.0, 1.0, -2.4083, -2.9082, -3.041, -3.2202, -3.2867, -3.436, -3.4526, -3.5242, -4.2489, -4.2849, -4.3277, -4.4137, -4.69, -5.0153, -5.0752, -5.0778, -5.266, -5.3964, -5.4411, -5.4293, -5.4086, -5.4642, -5.4675, -5.5003, -5.6163, -5.7467, -5.757, -5.7767, -5.8073, -5.954, -4.0658, -4.7841, -3.9049, -3.9974, -4.0314, -4.137, -4.1274, -4.2168, -4.4056, -4.5665, -4.6759, -4.689, -4.7532, -4.8757, -4.914, -4.9711, -5.0684, -5.1147, -5.1785, -5.2154, -5.1582, -5.3207, -5.333, -5.3674, -5.4259, -5.4431, -5.4477, -5.476, -5.4735, -5.4794, -5.5185, -5.5202, -4.3067, -3.1454, -3.782, -3.8139, -3.8358, -3.9583, -4.0355, -4.3938, -4.3762, -4.8201, -4.8912, -4.9064, -5.0381, -5.0119, -5.2732, -5.2193, -5.3374, -5.3599, -5.3877, -5.5288, -5.5249, -5.5542, -5.5475, -5.5565, -5.5177, -5.5671, -5.6109, -5.6551, -5.6878, -5.6907, -5.6496, -5.5809, -5.3867, -4.8472, -5.5569, -3.5506, -4.3778, -4.5237, -4.7314, -5.0685, -5.0844, -5.0941, -5.1874, -5.1761, -5.2823, -5.2723, -5.3019, -5.3246, -5.3265, -5.3396, -5.3557, -5.2667, -5.3753, -5.4786, -5.4895, -5.5084, -5.5936, -5.588, -5.5784, -5.6426, -5.6618, -5.6743, -5.7165, -5.6374, -5.7414, -4.5583, -4.4926, -4.4644, -4.5936, -4.8275, -4.3852, -4.8262, -4.8262, -5.1729, -5.4869, -1.063, -3.9895, -4.4474, -4.4461, -4.7971, -4.8624, -4.9952, -5.2375, -5.2677, -5.2823, -5.2816, -5.3457, -5.4269, -5.4387, -5.4629, -5.5394, -5.6212, -5.6907, -5.8104, -5.8161, -5.9937, -6.0534, -6.1137, -5.7307, -6.139, -6.1186, -6.1481, -6.2373, -5.9297, -6.2371], \"loglift\": [30.0, 29.0, 28.0, 27.0, 26.0, 25.0, 24.0, 23.0, 22.0, 21.0, 20.0, 19.0, 18.0, 17.0, 16.0, 15.0, 14.0, 13.0, 12.0, 11.0, 10.0, 9.0, 8.0, 7.0, 6.0, 5.0, 4.0, 3.0, 2.0, 1.0, 0.9052, 0.9051, 0.9051, 0.9051, 0.905, 0.905, 0.905, 0.9049, 0.9045, 0.9045, 0.9045, 0.9044, 0.9041, 0.9036, 0.9035, 0.9034, 0.903, 0.9027, 0.9026, 0.9026, 0.9026, 0.9026, 0.9025, 0.9024, 0.9021, 0.9016, 0.9015, 0.9014, 0.9009, 0.9008, 0.9003, 0.8998, 1.74, 1.7398, 1.7398, 1.7396, 1.7396, 1.7395, 1.7391, 1.7386, 1.7383, 1.7383, 1.7381, 1.7377, 1.7375, 1.7373, 1.7369, 1.7366, 1.7362, 1.7361, 1.7361, 1.7355, 1.7355, 1.7353, 1.7349, 1.7348, 1.7347, 1.7346, 1.7346, 1.7345, 1.7342, 1.7341, 1.4668, 1.8227, 1.8221, 1.822, 1.822, 1.8218, 1.8217, 1.8209, 1.8207, 1.8195, 1.8192, 1.8191, 1.8184, 1.8184, 1.8172, 1.817, 1.817, 1.8167, 1.8164, 1.8156, 1.8156, 1.8154, 1.8153, 1.8153, 1.8153, 1.8152, 1.8148, 1.8144, 1.8142, 1.8139, 1.8139, 1.813, 1.804, 1.5627, 0.8783, 2.031, 2.0291, 2.0286, 2.0278, 2.0258, 2.0257, 2.0256, 2.0251, 2.0248, 2.0245, 2.0245, 2.0243, 2.024, 2.024, 2.0239, 2.0239, 2.0238, 2.0236, 2.0226, 2.0224, 2.0219, 2.0216, 2.0213, 2.0213, 2.021, 2.0207, 2.0207, 2.02, 2.0199, 2.0195, 1.9991, 1.9749, 1.9609, 1.9584, 1.8032, 1.637, 1.7711, 1.7711, 0.6006, 1.3876, 2.0568, 2.0547, 2.0534, 2.0534, 2.0519, 2.0515, 2.0503, 2.049, 2.0489, 2.0488, 2.0488, 2.0482, 2.0475, 2.0474, 2.0468, 2.0463, 2.0449, 2.0447, 2.0433, 2.0431, 2.0404, 2.0396, 2.0383, 2.0379, 2.0377, 2.0373, 2.0371, 2.0359, 2.0357, 2.0356]}, \"token.table\": {\"Topic\": [3, 3, 3, 3, 1, 1, 3, 2, 5, 3, 5, 2, 4, 3, 4, 5, 1, 4, 2, 1, 1, 3, 5, 2, 2, 1, 5, 4, 1, 3, 2, 5, 4, 4, 5, 4, 2, 2, 5, 3, 5, 2, 1, 1, 3, 4, 3, 1, 3, 5, 5, 1, 3, 5, 2, 4, 2, 5, 5, 2, 1, 2, 3, 4, 5, 3, 1, 1, 1, 4, 4, 2, 1, 3, 1, 4, 4, 2, 1, 2, 3, 4, 5, 3, 4, 2, 3, 4, 4, 2, 3, 4, 2, 4, 3, 2, 5, 4, 4, 3, 1, 1, 1, 1, 1, 1, 3, 2, 5, 5, 2, 1, 4, 1, 2, 3, 4, 5, 2, 2, 4, 1, 2, 3, 4, 5, 5, 4, 4, 5, 5, 5, 4, 4, 5, 5, 3, 5, 5, 2, 4, 1, 2, 3, 4, 5, 3, 5, 4, 2, 3, 1, 2, 3, 4, 5, 4, 1, 1, 4, 2, 3, 1, 3, 1, 1, 3, 4, 5, 1, 2, 3, 4, 5, 5, 2, 4, 1, 3, 1, 4, 5, 3, 2, 3, 1, 2, 3, 4, 5, 2, 1, 2, 3, 4, 5, 2, 3, 1, 1, 1, 2, 1, 2, 1, 5, 3], \"Freq\": [0.993734750054628, 0.9898250535215645, 0.9906722397425647, 0.9876511941972866, 0.9996998249514787, 0.9975304718909749, 0.9965082645559863, 0.9939418264057504, 0.9836096393063376, 0.9924145559316284, 0.9691707370383349, 0.9992932971654135, 0.986552168380634, 0.995154166610587, 0.997993120063426, 0.9968621478346049, 0.9995655109547436, 0.9862539931837693, 0.9952425548728999, 0.9993187241214992, 0.9993994620440809, 0.99745629588865, 0.9834778516472052, 0.9976415519911002, 0.9982698523852672, 0.9976824680916186, 0.9924356551129683, 0.9839693882024689, 0.9954243714012678, 0.9985316582840699, 0.9924250022740494, 0.9889203510511594, 0.9873719475992797, 0.9914924181896168, 0.9967063105760159, 0.9968689161704147, 0.9883079842319831, 0.9950021201605355, 0.9838569700690071, 0.9942796033310906, 0.9980713022667805, 0.9963051225508239, 0.994163909286862, 0.004779847715727572, 0.02389923857863786, 0.9655292385769696, 0.9965165862464264, 0.9997063807315844, 0.9985391881191603, 0.9736238036568011, 0.9909670255839309, 0.009004190141061803, 0.9814567253757366, 0.009004190141061803, 0.7595162354098767, 0.23789445304504758, 0.9994623756186468, 0.9784204741044046, 0.9981273338322086, 0.9982690141827667, 0.05143183513098896, 0.02571591756549448, 0.08229093620958233, 0.7971934445303288, 0.041145468104791166, 0.9992010443834294, 0.996952485509625, 0.9998276725937951, 0.9938082671599586, 0.003991197860080156, 0.9946802965430742, 0.9956440900485151, 0.9997368156342776, 0.9989970056672057, 0.99870466819374, 0.9948747398142335, 0.9938781984114629, 0.9917296173073733, 0.35440708273626687, 0.03937856474847409, 0.013126188249491364, 0.5250475299796545, 0.06563094124745682, 0.9935253694529474, 0.9910800429329653, 0.997515426177235, 0.9869559213497788, 0.9931602676586383, 0.9824210624633533, 0.9919495530991689, 0.9908813764888323, 0.9898344194818535, 0.9990148077588201, 0.9896998660403108, 0.9859766552718762, 0.9976891411034916, 0.9998432792016014, 0.9893906773425211, 0.9912056075238429, 0.9927981340883374, 0.9983705060551766, 0.9977027425845156, 0.9993561694866056, 0.9995054554771109, 0.9950516150033435, 0.9996626142348932, 0.998819866231477, 0.9958057879382447, 0.9905490057849325, 0.9984688878097169, 0.9992775304646533, 0.994563578023871, 0.9853175183063125, 0.05969284756284253, 0.029846423781421265, 0.0895392713442638, 0.7710326143533827, 0.04974403963570211, 0.9974209838680175, 0.998763218393125, 0.9911266987920044, 0.0209399575285142, 0.00837598301140568, 0.0209399575285142, 0.9297341142660305, 0.0209399575285142, 0.991995913457845, 0.9868400516712178, 0.9950421547587676, 0.9935206892897201, 0.9766094145606548, 0.9890030388696845, 0.9906966536018836, 0.9896834584658276, 0.9788330810446458, 0.9829821162577399, 0.9946416550378703, 0.9939423749095045, 0.9946471040392162, 0.9912059584153965, 0.9938236844993185, 0.2960855185289936, 0.10997462116791193, 0.3891409672095345, 0.12266400053344022, 0.08036606931501256, 0.9946490662003812, 0.9769375449690205, 0.9949562313323457, 0.9976569900934193, 0.9935531814546105, 0.019016371010838078, 0.009508185505419039, 0.019016371010838078, 0.9270480867783564, 0.019016371010838078, 0.9953512953276604, 0.999096757991294, 0.9998110491371511, 0.9909841418114492, 0.9977881285125002, 0.9956622996272593, 0.9990269646607048, 0.9926862560437288, 0.9974794305184659, 0.9998969658871971, 0.9963991893222741, 0.9929597511356678, 0.9909634807794776, 0.05969284756284253, 0.029846423781421265, 0.0895392713442638, 0.7710326143533827, 0.04974403963570211, 0.9929725224210841, 0.9962075885513607, 0.9893356109126625, 0.22683094198097492, 0.7712252027353147, 0.32466944142499343, 0.6745287533053742, 0.9895902916269614, 0.9974761804553848, 0.9979169167348837, 0.9970499078196833, 0.017475126513627252, 0.008737563256813626, 0.013106344885220438, 0.9436568317358716, 0.017475126513627252, 0.9964308987528422, 0.9956447932323935, 0.9895066639473963, 0.9921920450798918, 0.994286377905355, 0.9967232811300498, 0.9983198751831472, 0.9953568262331814, 0.9995872797477201, 0.994843906691037, 0.9967521535012398, 0.9960105294402947, 0.9948442953971145, 0.00486714430233422, 0.9959313936019897, 0.984912206808267, 0.992936270697342], \"Term\": [\"1\", \"2\", \"2022\", \"4\", \"a\", \"about\", \"across\", \"after\", \"again\", \"against\", \"air\", \"all\", \"also\", \"am\", \"amp\", \"an\", \"and\", \"and\\u2026\", \"any\", \"are\", \"as\", \"at\", \"a\\u2026\", \"be\", \"been\", \"best\", \"big\", \"bjp\", \"but\", \"by\", \"can\", \"children\", \"community\", \"congratulations\", \"congress\", \"country\", \"court\", \"day\", \"days\", \"delhi\", \"do\", \"down\", \"even\", \"facebook\", \"facebook\", \"facebook\", \"follow\", \"for\", \"from\", \"gas\", \"government\", \"gujarat\", \"gujarat\", \"gujarat\", \"has\", \"has\", \"have\", \"high\", \"his\", \"how\", \"httpstcouiayywikne\", \"httpstcouiayywikne\", \"httpstcouiayywikne\", \"httpstcouiayywikne\", \"httpstcouiayywikne\", \"i\", \"if\", \"in\", \"india\", \"india\", \"indian\", \"into\", \"is\", \"it\", \"its\", \"join\", \"just\", \"know\", \"lanka\", \"lanka\", \"lanka\", \"lanka\", \"lanka\", \"last\", \"leader\", \"life\", \"like\", \"love\", \"make\", \"may\", \"me\", \"minister\", \"more\", \"mr\", \"must\", \"my\", \"nan\", \"narendramodi\", \"national\", \"never\", \"new\", \"news\", \"no\", \"not\", \"now\", \"of\", \"on\", \"one\", \"or\", \"our\", \"out\", \"over\", \"part\", \"pcadgwesternmindanao\", \"pcadgwesternmindanao\", \"pcadgwesternmindanao\", \"pcadgwesternmindanao\", \"pcadgwesternmindanao\", \"peace\", \"people\", \"pm\", \"pnpkakampimo\", \"pnpkakampimo\", \"pnpkakampimo\", \"pnpkakampimo\", \"pnpkakampimo\", \"police\", \"power\", \"president\", \"price\", \"prices\", \"protest\", \"punjab\", \"read\", \"s\", \"same\", \"say\", \"says\", \"so\", \"some\", \"sri\", \"srilanka\", \"srilanka\", \"srilanka\", \"srilanka\", \"srilanka\", \"story\", \"such\", \"sure\", \"take\", \"team\", \"teampnp\", \"teampnp\", \"teampnp\", \"teampnp\", \"teampnp\", \"thank\", \"that\", \"the\", \"their\", \"they\", \"the\\u2026\", \"this\", \"th\\u2026\", \"time\", \"to\", \"today\", \"towards\", \"twitter\", \"twi\\u2026\", \"twi\\u2026\", \"twi\\u2026\", \"twi\\u2026\", \"twi\\u2026\", \"two\", \"t\\u2026\", \"under\", \"up\", \"up\", \"us\", \"us\", \"value\", \"was\", \"we\", \"were\", \"weserveandprotect\", \"weserveandprotect\", \"weserveandprotect\", \"weserveandprotect\", \"weserveandprotect\", \"what\", \"when\", \"where\", \"while\", \"who\", \"why\", \"will\", \"wishes\", \"with\", \"working\", \"world\", \"years\", \"you\", \"you\", \"your\", \"\\ud83d\\udc47\", \"\\ud83d\\ude80\"]}, \"R\": 30, \"lambda.step\": 0.01, \"plot.opts\": {\"xlab\": \"PC1\", \"ylab\": \"PC2\"}, \"topic.order\": [3, 1, 5, 4, 2]};\n",
       "\n",
       "function LDAvis_load_lib(url, callback){\n",
       "  var s = document.createElement('script');\n",
       "  s.src = url;\n",
       "  s.async = true;\n",
       "  s.onreadystatechange = s.onload = callback;\n",
       "  s.onerror = function(){console.warn(\"failed to load library \" + url);};\n",
       "  document.getElementsByTagName(\"head\")[0].appendChild(s);\n",
       "}\n",
       "\n",
       "if(typeof(LDAvis) !== \"undefined\"){\n",
       "   // already loaded: just create the visualization\n",
       "   !function(LDAvis){\n",
       "       new LDAvis(\"#\" + \"ldavis_el808420354613615525401036225\", ldavis_el808420354613615525401036225_data);\n",
       "   }(LDAvis);\n",
       "}else if(typeof define === \"function\" && define.amd){\n",
       "   // require.js is available: use it to load d3/LDAvis\n",
       "   require.config({paths: {d3: \"https://d3js.org/d3.v5\"}});\n",
       "   require([\"d3\"], function(d3){\n",
       "      window.d3 = d3;\n",
       "      LDAvis_load_lib(\"https://cdn.jsdelivr.net/gh/bmabey/pyLDAvis@3.3.1/pyLDAvis/js/ldavis.v3.0.0.js\", function(){\n",
       "        new LDAvis(\"#\" + \"ldavis_el808420354613615525401036225\", ldavis_el808420354613615525401036225_data);\n",
       "      });\n",
       "    });\n",
       "}else{\n",
       "    // require.js not available: dynamically load d3 & LDAvis\n",
       "    LDAvis_load_lib(\"https://d3js.org/d3.v5.js\", function(){\n",
       "         LDAvis_load_lib(\"https://cdn.jsdelivr.net/gh/bmabey/pyLDAvis@3.3.1/pyLDAvis/js/ldavis.v3.0.0.js\", function(){\n",
       "                 new LDAvis(\"#\" + \"ldavis_el808420354613615525401036225\", ldavis_el808420354613615525401036225_data);\n",
       "            })\n",
       "         });\n",
       "}\n",
       "</script>"
      ],
      "text/plain": [
       "PreparedData(topic_coordinates=              x         y  topics  cluster       Freq\n",
       "topic                                                \n",
       "2      0.318565  0.002051       1        1  40.440112\n",
       "0     -0.079266 -0.227119       2        1  17.527205\n",
       "4     -0.076064  0.048606       3        1  16.146654\n",
       "3     -0.078046  0.010317       4        1  13.101380\n",
       "1     -0.085189  0.166146       5        1  12.784649, topic_info=      Term         Freq        Total Category  logprob  loglift\n",
       "250    nan  6509.000000  6509.000000  Default  30.0000  30.0000\n",
       "15     the  5363.000000  5363.000000  Default  29.0000  29.0000\n",
       "34      to  3253.000000  3253.000000  Default  28.0000  28.0000\n",
       "8       of  2848.000000  2848.000000  Default  27.0000  27.0000\n",
       "1        a  2381.000000  2381.000000  Default  26.0000  26.0000\n",
       "...    ...          ...          ...      ...      ...      ...\n",
       "737    air    41.481806    42.304208   Topic5  -6.1186   2.0373\n",
       "201    gas    40.275177    41.083630   Topic5  -6.1481   2.0371\n",
       "503     a…    36.838947    37.621589   Topic5  -6.2373   2.0359\n",
       "2384  such    50.106548    51.180344   Topic5  -5.9297   2.0357\n",
       "607   same    36.847722    37.640563   Topic5  -6.2371   2.0356\n",
       "\n",
       "[197 rows x 6 columns], token_table=      Topic      Freq  Term\n",
       "term                       \n",
       "1478      3  0.993735     1\n",
       "1480      3  0.989825     2\n",
       "719       3  0.990672  2022\n",
       "1481      3  0.987651     4\n",
       "1         1  0.999700     a\n",
       "...     ...       ...   ...\n",
       "36        1  0.994844   you\n",
       "36        2  0.004867   you\n",
       "473       1  0.995931  your\n",
       "37        5  0.984912     👇\n",
       "1708      3  0.992936     🚀\n",
       "\n",
       "[207 rows x 3 columns], R=30, lambda_step=0.01, plot_opts={'xlab': 'PC1', 'ylab': 'PC2'}, topic_order=[3, 1, 5, 4, 2])"
      ]
     },
     "execution_count": 77,
     "metadata": {},
     "output_type": "execute_result"
    }
   ],
   "source": [
    "import pyLDAvis.gensim_models as gensimvis\n",
    "import pickle \n",
    "import pyLDAvis\n",
    "# Visualize the topics\n",
    "pyLDAvis.enable_notebook()\n",
    "\n",
    "LDAvis_prepared = gensimvis.prepare(lda_model, corpus, id2word)\n",
    "LDAvis_prepared"
   ]
  },
  {
   "cell_type": "code",
   "execution_count": 78,
   "id": "6ca1c019",
   "metadata": {},
   "outputs": [],
   "source": [
    "cleanTweet = twitter_data[['original_text','polarity']]"
   ]
  },
  {
   "cell_type": "code",
   "execution_count": 79,
   "id": "18de01e1",
   "metadata": {},
   "outputs": [],
   "source": [
    "def sentiment_catagory (p):\n",
    "  if p > 0:\n",
    "    return 'positive'\n",
    "  elif p < 0:\n",
    "    return 'negative'\n",
    "  else:\n",
    "    return 'neutral'"
   ]
  },
  {
   "cell_type": "code",
   "execution_count": 80,
   "id": "5ff12d50",
   "metadata": {},
   "outputs": [
    {
     "data": {
      "image/png": "[encoded data removed]",
      "text/plain": [
       "<Figure size 576x360 with 1 Axes>"
      ]
     },
     "metadata": {
      "needs_background": "light"
     },
     "output_type": "display_data"
    }
   ],
   "source": [
    "score = pd.Series([sentiment_catagory(row_val) for row_val in cleanTweet['polarity']])\n",
    "cleanTweet = pd.concat([cleanTweet, score.rename(\"score\")], axis=1)\n",
    "\n",
    "# Visualize The  score  column using barchart\n",
    "\n",
    "# Create a figure for 2 subplots (1 row, 2 columns)\n",
    "labels = ['neutral', 'positive', 'negative']\n",
    "positive = len(cleanTweet[cleanTweet['score'] == \"positive\"])\n",
    "negative = len(cleanTweet[cleanTweet['score'] == \"negative\"])\n",
    "neutral = len(cleanTweet[cleanTweet['score'] == \"neutral\"])\n",
    "fig, ax = plt.subplots(1, 1, figsize = (8,5))\n",
    "\n",
    "# Create a bar plot of score column\n",
    "ax.bar(x=labels, height=[negative, positive, neutral], color='blue')\n",
    "ax.set_title('Barchart of score column')\n",
    "ax.set_xticklabels(labels, rotation=90)\n",
    "\n",
    "# Add a title to the Figure\n",
    "fig.suptitle('Score column plots')\n",
    "\n",
    "# Show the figure\n",
    "fig.show()"
   ]
  },
  {
   "cell_type": "code",
   "execution_count": 81,
   "id": "018e7e63",
   "metadata": {},
   "outputs": [],
   "source": [
    "cleanTweet = cleanTweet.drop(cleanTweet[cleanTweet.score == 'neutral'].index)\n",
    "scoremap = pd.Series([1 if row_val == 'positive' else 0 for row_val in cleanTweet['score']])\n",
    "cleanTweet['scoremap'] = scoremap"
   ]
  },
  {
   "cell_type": "code",
   "execution_count": 82,
   "id": "a097aedb",
   "metadata": {},
   "outputs": [
    {
     "data": {
      "image/png": "[encoded data removed]",
      "text/plain": [
       "<Figure size 432x288 with 1 Axes>"
      ]
     },
     "metadata": {
      "needs_background": "light"
     },
     "output_type": "display_data"
    }
   ],
   "source": [
    "#Data Exploration\n",
    "\n",
    "fig=plt.figure()\n",
    "ax = fig.add_subplot(1,1,1)\n",
    "\n",
    "#Variable\n",
    "ax.hist(cleanTweet['scoremap'],bins = 10)\n",
    "\n",
    "#Labels and Tit\n",
    "plt.title('Tweet distribution')\n",
    "plt.xlabel('Sentiment')\n",
    "plt.ylabel('Analysis')\n",
    "plt.show()"
   ]
  }
 ],
 "metadata": {
  "kernelspec": {
   "display_name": "Python 3 (ipykernel)",
   "language": "python",
   "name": "python3"
  },
  "language_info": {
   "codemirror_mode": {
    "name": "ipython",
    "version": 3
   },
   "file_extension": ".py",
   "mimetype": "text/x-python",
   "name": "python",
   "nbconvert_exporter": "python",
   "pygments_lexer": "ipython3",
   "version": "3.9.7"
  }
 },
 "nbformat": 4,
 "nbformat_minor": 5
}
